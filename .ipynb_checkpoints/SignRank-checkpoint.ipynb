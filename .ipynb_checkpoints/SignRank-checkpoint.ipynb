{
 "cells": [
  {
   "cell_type": "code",
   "execution_count": 3,
   "id": "encouraging-remedy",
   "metadata": {},
   "outputs": [],
   "source": [
    "import numpy as np\n",
    "import pandas as pd\n",
    "import matplotlib.pyplot as plt\n",
    "import networkx as nx\n",
    "from tqdm import trange\n",
    "import csv"
   ]
  },
  {
   "cell_type": "markdown",
   "id": "sporting-orientation",
   "metadata": {},
   "source": [
    "## Importing Graph Data"
   ]
  },
  {
   "cell_type": "code",
   "execution_count": 4,
   "id": "executed-bandwidth",
   "metadata": {},
   "outputs": [],
   "source": [
    "Data = open('soc-sign-bitcoinotc.csv', \"r\")\n",
    "next(Data, None)  # skip the first line in the input file\n",
    "Graphtype = nx.DiGraph()\n",
    "\n",
    "G = nx.parse_edgelist(Data, delimiter=',', create_using=Graphtype, nodetype=int, data=(('Weight', int),('Timestamp', int)))\n",
    "\n",
    "# Setting weights -1 to 1\n",
    "weights = nx.get_edge_attributes(G,\"Weight\")\n",
    "for key, val in weights.items():\n",
    "    weights[key] = val/10\n",
    "nx.set_edge_attributes(G, weights, \"Weight\")"
   ]
  },
  {
   "cell_type": "code",
   "execution_count": 5,
   "id": "injured-gregory",
   "metadata": {},
   "outputs": [
    {
     "name": "stdout",
     "output_type": "stream",
     "text": [
      "Name: \n",
      "Type: DiGraph\n",
      "Number of nodes: 5881\n",
      "Number of edges: 35592\n",
      "Average in degree:   6.0520\n",
      "Average out degree:   6.0520\n"
     ]
    }
   ],
   "source": [
    "print(nx.info(G))"
   ]
  },
  {
   "cell_type": "code",
   "execution_count": 14,
   "id": "bored-struggle",
   "metadata": {},
   "outputs": [
    {
     "data": {
      "text/plain": [
       "[(6, 2, {'Weight': 0.4, 'Timestamp': 1289241912}),\n",
       " (6, 5, {'Weight': 0.2, 'Timestamp': 1289241942}),\n",
       " (6, 4, {'Weight': 0.2, 'Timestamp': 1289770700}),\n",
       " (6, 7, {'Weight': 0.5, 'Timestamp': 1290826367}),\n",
       " (6, 114, {'Weight': 0.2, 'Timestamp': 1296291457})]"
      ]
     },
     "execution_count": 14,
     "metadata": {},
     "output_type": "execute_result"
    }
   ],
   "source": [
    "list(G.edges(data=True))[:5]"
   ]
  },
  {
   "cell_type": "code",
   "execution_count": 22,
   "id": "discrete-medicine",
   "metadata": {},
   "outputs": [
    {
     "data": {
      "text/plain": [
       "5881"
      ]
     },
     "execution_count": 22,
     "metadata": {},
     "output_type": "execute_result"
    }
   ],
   "source": [
    "G.number_of_nodes()"
   ]
  },
  {
   "cell_type": "code",
   "execution_count": 23,
   "id": "detected-consideration",
   "metadata": {},
   "outputs": [
    {
     "data": {
      "text/plain": [
       "6005"
      ]
     },
     "execution_count": 23,
     "metadata": {},
     "output_type": "execute_result"
    }
   ],
   "source": [
    "max(G.nodes)"
   ]
  },
  {
   "cell_type": "markdown",
   "id": "intelligent-lemon",
   "metadata": {},
   "source": [
    "## Implementing SignRank Computation"
   ]
  },
  {
   "cell_type": "code",
   "execution_count": 68,
   "id": "unique-neighbor",
   "metadata": {},
   "outputs": [],
   "source": [
    "class SignRank():\n",
    "    def __init__(self, G):\n",
    "        '''\n",
    "        '''\n",
    "        self.G = G\n",
    "        self.n_nodes = G.number_of_nodes()\n",
    "        self.mx_node = max(G.nodes)\n",
    "        \n",
    "        self.pos_edges = None\n",
    "        self.neg_edges = None\n",
    "        \n",
    "        self.pos_probab = None\n",
    "        self.neg_probab = None\n",
    "        \n",
    "        self.emo = 1\n",
    "        self.iterMax = None\n",
    "    \n",
    "    def prepare_walker(self, iterMax):\n",
    "        '''\n",
    "        '''\n",
    "        self.pos_edges = [(e[0], e[1]) for e in G.edges(data=True) if e[2]['Weight'] > 0]\n",
    "        self.neg_edges = [(e[0], e[1]) for e in G.edges(data=True) if e[2]['Weight'] < 0]\n",
    "        \n",
    "        self.pos_probab = np.ones((2, self.mx_node+1))\n",
    "        self.pos_probab /= (2*self.n_nodes)\n",
    "        self.neg_probab = np.ones((2, self.mx_node+1))\n",
    "        self.neg_probab /= (2*self.n_nodes)\n",
    "        \n",
    "        present = sorted(list(G.nodes))\n",
    "        for i in range(self.mx_node+1):\n",
    "            if i in present:\n",
    "                pass\n",
    "            else:\n",
    "                self.pos_probab[:,i] = 0\n",
    "                self.neg_probab[:,i] = 0\n",
    "        \n",
    "        self.emo = 1\n",
    "        self.iterMax = iterMax\n",
    "        \n",
    "    def computeSR(self, iterMax, lam, alph):\n",
    "        '''\n",
    "        lam: tiredness probability\n",
    "        alph: hopping probability\n",
    "        '''\n",
    "        self.prepare_walker(iterMax)\n",
    "        \n",
    "        for iter in range(1, iterMax+1):\n",
    "            print('[Logs] Iter: ', iter)\n",
    "            for pe in self.pos_edges:\n",
    "                i = pe[0]\n",
    "                j = pe[1]\n",
    "                self.pos_probab[1][j] = self.pos_probab[0][i]/(self.G.out_degree(i))\n",
    "                self.neg_probab[1][j] = self.neg_probab[0][i]/(self.G.out_degree(i) * lam)\n",
    "                \n",
    "            for ne in self.neg_edges:\n",
    "                i = ne[0]\n",
    "                j = ne[1]\n",
    "                self.pos_probab[1][j] = self.pos_probab[0][i]/(self.G.out_degree(i) * lam)\n",
    "                self.neg_probab[1][j] = self.neg_probab[0][j]/(self.G.out_degree(i))\n",
    "                \n",
    "            nsum = (np.sum(self.neg_probab[0])*lam)/(self.n_nodes * 2)\n",
    "            \n",
    "            self.pos_probab[1] += nsum\n",
    "            self.pos_probab[1] *= (alph * (1-alph))/(2 * self.n_nodes)\n",
    "            \n",
    "            self.neg_probab[1] += nsum\n",
    "            self.neg_probab[1] *= (alph * (1-alph))/(2 * self.n_nodes)\n",
    "            \n",
    "            err = np.sum(self.pos_probab[1]) + np.sum(self.neg_probab[1]) - np.sum(self.pos_probab[0]) - np.sum(self.neg_probab[0])\n",
    "            \n",
    "            print(err)\n",
    "            \n",
    "#             if err < self.n_nodes * tol:\n",
    "#                 return self.pos_probab[1], self.neg_probab[0]\n",
    "            \n",
    "            self.pos_probab[0] = self.pos_probab[1]\n",
    "            self.neg_probab[0] = self.neg_probab[1]\n",
    "        \n",
    "        return self.pos_probab[1], self.neg_probab[1]\n",
    "            "
   ]
  },
  {
   "cell_type": "code",
   "execution_count": 69,
   "id": "accurate-wells",
   "metadata": {},
   "outputs": [],
   "source": [
    "sr = SignRank(G)"
   ]
  },
  {
   "cell_type": "code",
   "execution_count": 70,
   "id": "buried-parliament",
   "metadata": {},
   "outputs": [
    {
     "name": "stdout",
     "output_type": "stream",
     "text": [
      "[Logs] Iter:  1\n",
      "-0.9999907818174083\n",
      "[Logs] Iter:  2\n",
      "-9.218067779724122e-06\n",
      "[Logs] Iter:  3\n",
      "-1.1481037784061107e-10\n"
     ]
    }
   ],
   "source": [
    "a, b = sr.computeSR(3, 0.5, 0.5)"
   ]
  },
  {
   "cell_type": "code",
   "execution_count": 71,
   "id": "awful-possibility",
   "metadata": {},
   "outputs": [
    {
     "data": {
      "text/plain": [
       "array([3.62830140e-19, 8.67015117e-20, 6.71607055e-20, ...,\n",
       "       9.09483790e-20, 6.22287729e-20, 6.22287729e-20])"
      ]
     },
     "execution_count": 71,
     "metadata": {},
     "output_type": "execute_result"
    }
   ],
   "source": [
    "a"
   ]
  },
  {
   "cell_type": "code",
   "execution_count": 72,
   "id": "harmful-alcohol",
   "metadata": {},
   "outputs": [
    {
     "data": {
      "text/plain": [
       "array([3.62830140e-19, 1.54090227e-19, 6.29485771e-20, ...,\n",
       "       1.72823492e-19, 6.31680650e-20, 6.31680650e-20])"
      ]
     },
     "execution_count": 72,
     "metadata": {},
     "output_type": "execute_result"
    }
   ],
   "source": [
    "b"
   ]
  },
  {
   "cell_type": "code",
   "execution_count": 86,
   "id": "appointed-stroke",
   "metadata": {},
   "outputs": [
    {
     "data": {
      "text/plain": [
       "array([1.        , 0.56266717, 1.0669138 , ..., 0.5262501 , 0.98513027,\n",
       "       0.98513027])"
      ]
     },
     "execution_count": 86,
     "metadata": {},
     "output_type": "execute_result"
    }
   ],
   "source": [
    "tmp = (a/b)\n",
    "tmp"
   ]
  },
  {
   "cell_type": "code",
   "execution_count": 87,
   "id": "southeast-serial",
   "metadata": {},
   "outputs": [],
   "source": [
    "pos = tmp>1"
   ]
  },
  {
   "cell_type": "code",
   "execution_count": 89,
   "id": "reasonable-simple",
   "metadata": {},
   "outputs": [
    {
     "data": {
      "text/plain": [
       "(array([False,  True]), array([4760, 1246], dtype=int64))"
      ]
     },
     "execution_count": 89,
     "metadata": {},
     "output_type": "execute_result"
    }
   ],
   "source": [
    "np.unique(pos, return_counts=True)"
   ]
  },
  {
   "cell_type": "code",
   "execution_count": 90,
   "id": "public-count",
   "metadata": {},
   "outputs": [],
   "source": [
    "labels = {}\n",
    "pos_nodes = []\n",
    "neg_nodes = []\n",
    "\n",
    "for node in list(G.nodes):\n",
    "    if tmp[node]:\n",
    "        labels[node] = 1\n",
    "        pos_nodes.append(node)\n",
    "    else:\n",
    "        labels[node] = 0\n",
    "        neg_nodes.append(node)"
   ]
  },
  {
   "cell_type": "code",
   "execution_count": null,
   "id": "pending-alarm",
   "metadata": {},
   "outputs": [],
   "source": []
  }
 ],
 "metadata": {
  "kernelspec": {
   "display_name": "Python 3",
   "language": "python",
   "name": "python3"
  },
  "language_info": {
   "codemirror_mode": {
    "name": "ipython",
    "version": 3
   },
   "file_extension": ".py",
   "mimetype": "text/x-python",
   "name": "python",
   "nbconvert_exporter": "python",
   "pygments_lexer": "ipython3",
   "version": "3.7.3"
  }
 },
 "nbformat": 4,
 "nbformat_minor": 5
}
