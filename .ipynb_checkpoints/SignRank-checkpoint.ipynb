{
 "cells": [
  {
   "cell_type": "code",
   "execution_count": 224,
   "id": "frank-athletics",
   "metadata": {},
   "outputs": [],
   "source": [
    "import numpy as np\n",
    "import pandas as pd\n",
    "import matplotlib.pyplot as plt\n",
    "import networkx as nx\n",
    "from tqdm import trange\n",
    "import csv\n",
    "from pprint import pprint\n",
    "import seaborn as sns\n",
    "import pickle\n",
    "sns.set_theme()"
   ]
  },
  {
   "cell_type": "markdown",
   "id": "absolute-entry",
   "metadata": {},
   "source": [
    "## Importing Graph Data"
   ]
  },
  {
   "cell_type": "code",
   "execution_count": 225,
   "id": "sexual-ocean",
   "metadata": {},
   "outputs": [
    {
     "name": "stdout",
     "output_type": "stream",
     "text": [
      "   Source  Target    Weight   Timestamp\n",
      "0       6       2  0.298797  1289241912\n",
      "1       6       5  0.098797  1289241942\n",
      "2       1      15 -0.001203  1289243140\n",
      "3       4       3  0.598797  1289245277\n",
      "4      13      16  0.698797  1289254254\n"
     ]
    }
   ],
   "source": [
    "Data = open('soc-sign-bitcoinotc.csv', \"r\")\n",
    "next(Data, None)  # skip the first line\n",
    "graph_type = nx.DiGraph()\n",
    "df = pd.read_csv(\"soc-sign-bitcoinotc.csv\")\n",
    "df = df.sort_values(by = \"Timestamp\")\n",
    "# Reducing weights to -1 to 1 range:\n",
    "df.Weight /= 10\n",
    "df.Weight = df.Weight - df.Weight.mean() # Setting the mean to zero![Want more negative edges!!]\n",
    "print(df.head())\n",
    "split = int(1*len(df)) # USing first 10% data for the initial experimentation\n",
    "train = df.iloc[:split,:]\n",
    "test = df.iloc[split:,:]\n",
    "G = nx.from_pandas_edgelist(train,\n",
    "                            source='Source',\n",
    "                            target='Target',\n",
    "                            edge_attr='Weight',\n",
    "                            create_using=graph_type)"
   ]
  },
  {
   "cell_type": "code",
   "execution_count": 226,
   "id": "revolutionary-george",
   "metadata": {},
   "outputs": [
    {
     "name": "stdout",
     "output_type": "stream",
     "text": [
      "Name: \n",
      "Type: DiGraph\n",
      "Number of nodes: 5881\n",
      "Number of edges: 35592\n",
      "Average in degree:   6.0520\n",
      "Average out degree:   6.0520\n"
     ]
    }
   ],
   "source": [
    "print(nx.info(G))"
   ]
  },
  {
   "cell_type": "code",
   "execution_count": 227,
   "id": "graduate-advice",
   "metadata": {},
   "outputs": [
    {
     "data": {
      "text/plain": [
       "[(6, 2, {'Weight': 0.29879748258035516}),\n",
       " (6, 5, {'Weight': 0.09879748258035513}),\n",
       " (6, 4, {'Weight': 0.09879748258035513}),\n",
       " (6, 7, {'Weight': 0.39879748258035513}),\n",
       " (6, 114, {'Weight': 0.09879748258035513})]"
      ]
     },
     "execution_count": 227,
     "metadata": {},
     "output_type": "execute_result"
    }
   ],
   "source": [
    "list(G.edges(data=True))[:5]"
   ]
  },
  {
   "cell_type": "code",
   "execution_count": 228,
   "id": "original-environment",
   "metadata": {},
   "outputs": [
    {
     "data": {
      "text/plain": [
       "5881"
      ]
     },
     "execution_count": 228,
     "metadata": {},
     "output_type": "execute_result"
    }
   ],
   "source": [
    "G.number_of_nodes()"
   ]
  },
  {
   "cell_type": "code",
   "execution_count": 229,
   "id": "electoral-being",
   "metadata": {},
   "outputs": [
    {
     "data": {
      "text/plain": [
       "6005"
      ]
     },
     "execution_count": 229,
     "metadata": {},
     "output_type": "execute_result"
    }
   ],
   "source": [
    "max(G.nodes)"
   ]
  },
  {
   "cell_type": "markdown",
   "id": "looking-bikini",
   "metadata": {},
   "source": [
    "## Implementing SignRank Computation\n",
    "\n",
    "> Reference: https://www.hindawi.com/journals/wcmc/2019/4813717/"
   ]
  },
  {
   "cell_type": "code",
   "execution_count": 230,
   "id": "comprehensive-admission",
   "metadata": {},
   "outputs": [],
   "source": [
    "class SignRank():\n",
    "    def __init__(self, G):\n",
    "        '''\n",
    "        '''\n",
    "        self.G = G\n",
    "        self.n_nodes = G.number_of_nodes()\n",
    "        self.mx_node = max(G.nodes)\n",
    "        \n",
    "        self.pos_edges = None\n",
    "        self.neg_edges = None\n",
    "        \n",
    "        self.pos_probab = None\n",
    "        self.neg_probab = None\n",
    "        \n",
    "        self.emo = 1\n",
    "        self.iterMax = None\n",
    "    \n",
    "    def prepare_walker(self, iterMax):\n",
    "        '''\n",
    "        '''\n",
    "        self.pos_edges = [(e[0], e[1]) for e in G.edges(data=True) if e[2]['Weight'] > 0]\n",
    "        self.neg_edges = [(e[0], e[1]) for e in G.edges(data=True) if e[2]['Weight'] < 0]\n",
    "        \n",
    "        self.pos_probab = np.ones((2, self.mx_node+1))\n",
    "        self.pos_probab /= (2*self.n_nodes)\n",
    "        self.neg_probab = np.ones((2, self.mx_node+1))\n",
    "        self.neg_probab /= (2*self.n_nodes)\n",
    "        \n",
    "        present = sorted(list(G.nodes))\n",
    "        for i in range(self.mx_node+1):\n",
    "            if i in present:\n",
    "                pass\n",
    "            else:\n",
    "                self.pos_probab[:,i] = 0\n",
    "                self.neg_probab[:,i] = 0\n",
    "        \n",
    "        self.emo = 1\n",
    "        self.iterMax = iterMax\n",
    "        \n",
    "    def computeSR(self, iterMax, lam, alph):\n",
    "        '''\n",
    "        lam: tiredness probability\n",
    "        alph: hopping probability\n",
    "        '''\n",
    "        self.prepare_walker(iterMax)\n",
    "        \n",
    "        for iter in range(1, iterMax+1):\n",
    "            print('[Logs] Iter: ', iter)\n",
    "            for pe in self.pos_edges:\n",
    "                i = pe[0]\n",
    "                j = pe[1]\n",
    "                self.pos_probab[1][j] = self.pos_probab[0][i]/(self.G.out_degree(i))\n",
    "                self.neg_probab[1][j] = self.neg_probab[0][i]/(self.G.out_degree(i) * lam)\n",
    "                \n",
    "            for ne in self.neg_edges:\n",
    "                i = ne[0]\n",
    "                j = ne[1]\n",
    "                self.pos_probab[1][j] = self.pos_probab[0][i]/(self.G.out_degree(i) * lam)\n",
    "                self.neg_probab[1][j] = self.neg_probab[0][j]/(self.G.out_degree(i))\n",
    "                \n",
    "            nsum = (np.sum(self.neg_probab[0])*lam)/(self.n_nodes * 2)\n",
    "            \n",
    "            self.pos_probab[1] += nsum\n",
    "            self.pos_probab[1] *= (alph * (1-alph))/(2 * self.n_nodes)\n",
    "            \n",
    "            self.neg_probab[1] += nsum\n",
    "            self.neg_probab[1] *= (alph * (1-alph))/(2 * self.n_nodes)\n",
    "            \n",
    "            err = abs(np.sum(self.pos_probab[1]) + np.sum(self.neg_probab[1]) - np.sum(self.pos_probab[0]) - np.sum(self.neg_probab[0]))\n",
    "            \n",
    "            print(\"Err: \", err)\n",
    "            \n",
    "#             if err < self.n_nodes * tol:\n",
    "#                 return self.pos_probab[1], self.neg_probab[0]\n",
    "            \n",
    "            self.pos_probab[0] = self.pos_probab[1]\n",
    "            self.neg_probab[0] = self.neg_probab[1]\n",
    "        \n",
    "        return self.pos_probab[1], self.neg_probab[1]\n",
    "            "
   ]
  },
  {
   "cell_type": "code",
   "execution_count": 231,
   "id": "closed-laugh",
   "metadata": {},
   "outputs": [],
   "source": [
    "sr = SignRank(G)"
   ]
  },
  {
   "cell_type": "code",
   "execution_count": 232,
   "id": "surprised-mentor",
   "metadata": {},
   "outputs": [
    {
     "name": "stdout",
     "output_type": "stream",
     "text": [
      "[Logs] Iter:  1\n",
      "Err:  0.999994596472104\n",
      "[Logs] Iter:  2\n",
      "Err:  5.403439250899036e-06\n",
      "[Logs] Iter:  3\n",
      "Err:  8.864253926420939e-11\n",
      "[Logs] Iter:  4\n",
      "Err:  2.8089320741824933e-15\n"
     ]
    }
   ],
   "source": [
    "pos_probabs, neg_probabs = sr.computeSR(4, 0.1, 0.1)"
   ]
  },
  {
   "cell_type": "code",
   "execution_count": 233,
   "id": "seventh-production",
   "metadata": {},
   "outputs": [],
   "source": [
    "reputation = pos_probabs/neg_probabs"
   ]
  },
  {
   "cell_type": "code",
   "execution_count": 235,
   "id": "danish-office",
   "metadata": {},
   "outputs": [],
   "source": [
    "node_wise = {}\n",
    "reputation_list = []\n",
    "for node in G.nodes:\n",
    "    node_wise[node] = reputation[node]\n",
    "    reputation_list.append(reputation[node])"
   ]
  },
  {
   "cell_type": "code",
   "execution_count": 236,
   "id": "regional-bracelet",
   "metadata": {},
   "outputs": [
    {
     "name": "stdout",
     "output_type": "stream",
     "text": [
      "Top 15 reputed users and their reputation: \n",
      "[(695, 18573.413993685845),\n",
      " (883, 18573.413993685845),\n",
      " (904, 18573.413993685845),\n",
      " (920, 18573.413993685845),\n",
      " (1111, 18573.413993685845),\n",
      " (1153, 18573.413993685845),\n",
      " (1163, 18573.413993685845),\n",
      " (1216, 18573.413993685845),\n",
      " (1250, 18573.413993685845),\n",
      " (1306, 18573.413993685845),\n",
      " (1413, 18573.413993685845),\n",
      " (1433, 18573.413993685845),\n",
      " (1514, 18573.413993685845),\n",
      " (1908, 18573.413993685845),\n",
      " (2636, 18573.413993685845)]\n",
      "\n",
      "Bottom 15 reputed users and their reputation: \n",
      "[(5951, 0.0002582540570100123),\n",
      " (5959, 0.0002582540570100123),\n",
      " (5996, 0.0002582540570100123),\n",
      " (3540, 0.0001791078206703803),\n",
      " (3821, 0.0001791078206703803),\n",
      " (3627, 0.00016302342359092155),\n",
      " (3899, 0.00016302342359092155),\n",
      " (1056, 0.0001391841518339317),\n",
      " (1251, 0.0001391841518339317),\n",
      " (1420, 0.0001391841518339317),\n",
      " (1171, 0.00013226121425656008),\n",
      " (1284, 0.00013226121425656008),\n",
      " (5078, 0.00013226121425656008),\n",
      " (3911, 0.00011274388847935269),\n",
      " (3912, 0.00011274388847935269)]\n"
     ]
    }
   ],
   "source": [
    "reputation_tups_sorted = sorted(node_wise.items(), key=lambda item: item[1], reverse=True)\n",
    "sorted_dict = {k: v for k, v in reputation_tups_sorted}\n",
    "\n",
    "# print(sorted_dict)\n",
    "print(\"Top 15 reputed users and their reputation: \")\n",
    "pprint(reputation_tups_sorted[:15])\n",
    "print()\n",
    "print(\"Bottom 15 reputed users and their reputation: \")\n",
    "pprint(reputation_tups_sorted[-15:])"
   ]
  },
  {
   "cell_type": "code",
   "execution_count": 238,
   "id": "visible-midnight",
   "metadata": {},
   "outputs": [],
   "source": [
    "# For plotting the reputation of users\n",
    "pos = nx.kamada_kawai_layout(G)"
   ]
  },
  {
   "cell_type": "code",
   "execution_count": 239,
   "id": "brief-beauty",
   "metadata": {},
   "outputs": [],
   "source": [
    "Xs,Ys =[], []\n",
    "for x,y in list(pos.values()):\n",
    "    Xs.append(x)\n",
    "    Ys.append(y)\n",
    "plt.figure(figsize=(15,10))\n",
    "plt.scatter(Xs,Ys, c=list(reputation_list), s=35, cmap = plt.cm.get_cmap('seismic'))\n",
    "plt.colorbar()\n",
    "plt.title(\"Reputation of the users calculated using signrank\", y=-0.19)\n",
    "plt.savefig('signrank_plot.png')\n",
    "plt.show()"
   ]
  },
  {
   "cell_type": "code",
   "execution_count": 240,
   "id": "intense-equilibrium",
   "metadata": {},
   "outputs": [
    {
     "name": "stderr",
     "output_type": "stream",
     "text": [
      "d:\\python\\lib\\site-packages\\seaborn\\distributions.py:2557: FutureWarning: `distplot` is a deprecated function and will be removed in a future version. Please adapt your code to use either `displot` (a figure-level function with similar flexibility) or `histplot` (an axes-level function for histograms).\n",
      "  warnings.warn(msg, FutureWarning)\n"
     ]
    },
    {
     "data": {
      "image/png": "[encoded data removed]",
      "text/plain": [
       "<Figure size 1080x720 with 1 Axes>"
      ]
     },
     "metadata": {},
     "output_type": "display_data"
    }
   ],
   "source": [
    "plt.figure(figsize=(15,10))\n",
    "sns.distplot(reputation_list)\n",
    "plt.show()"
   ]
  },
  {
   "cell_type": "code",
   "execution_count": 241,
   "id": "graphic-calgary",
   "metadata": {},
   "outputs": [],
   "source": [
    "file = open('goodness_values_large.pickle', 'rb')\n",
    "goodness_dict = pickle.load(file)\n",
    "file.close()"
   ]
  },
  {
   "cell_type": "code",
   "execution_count": 242,
   "id": "physical-jesus",
   "metadata": {},
   "outputs": [],
   "source": [
    "goodness_tups_sorted = sorted(goodness_dict.items(), key=lambda item: item[1], reverse=True)\n",
    "sorted_goodness = {k: v for k, v in goodness_tups_sorted}"
   ]
  },
  {
   "cell_type": "code",
   "execution_count": 243,
   "id": "exotic-asthma",
   "metadata": {},
   "outputs": [],
   "source": [
    "goodness_ranks = {}\n",
    "signrank_ranks = {}\n",
    "\n",
    "for i in range(len(goodness_tups_sorted)):\n",
    "    goodness_ranks[goodness_tups_sorted[i][0]] = i\n",
    "    signrank_ranks[reputation_tups_sorted[i][0]] = i"
   ]
  },
  {
   "cell_type": "code",
   "execution_count": 244,
   "id": "confident-vulnerability",
   "metadata": {},
   "outputs": [],
   "source": [
    "grank_s = pd.Series(goodness_ranks)"
   ]
  },
  {
   "cell_type": "code",
   "execution_count": 245,
   "id": "cathedral-express",
   "metadata": {},
   "outputs": [],
   "source": [
    "srank_s = pd.Series(signrank_ranks)"
   ]
  },
  {
   "cell_type": "code",
   "execution_count": 256,
   "id": "alike-architecture",
   "metadata": {},
   "outputs": [],
   "source": [
    "n = len(srank_s)"
   ]
  },
  {
   "cell_type": "code",
   "execution_count": 265,
   "id": "sporting-banking",
   "metadata": {},
   "outputs": [],
   "source": [
    "diff = 6*pow((grank_s - srank_s),2)/(n*(n*n-1))"
   ]
  },
  {
   "cell_type": "code",
   "execution_count": 267,
   "id": "mineral-communication",
   "metadata": {},
   "outputs": [
    {
     "name": "stderr",
     "output_type": "stream",
     "text": [
      "d:\\python\\lib\\site-packages\\seaborn\\distributions.py:2557: FutureWarning: `distplot` is a deprecated function and will be removed in a future version. Please adapt your code to use either `displot` (a figure-level function with similar flexibility) or `histplot` (an axes-level function for histograms).\n",
      "  warnings.warn(msg, FutureWarning)\n"
     ]
    },
    {
     "data": {
      "image/png": "[encoded data removed]",
      "text/plain": [
       "<Figure size 432x288 with 1 Axes>"
      ]
     },
     "metadata": {},
     "output_type": "display_data"
    }
   ],
   "source": [
    "sns.distplot(diff)\n",
    "plt.show()"
   ]
  },
  {
   "cell_type": "code",
   "execution_count": null,
   "id": "median-booking",
   "metadata": {},
   "outputs": [],
   "source": []
  }
 ],
 "metadata": {
  "kernelspec": {
   "display_name": "Python 3",
   "language": "python",
   "name": "python3"
  },
  "language_info": {
   "codemirror_mode": {
    "name": "ipython",
    "version": 3
   },
   "file_extension": ".py",
   "mimetype": "text/x-python",
   "name": "python",
   "nbconvert_exporter": "python",
   "pygments_lexer": "ipython3",
   "version": "3.7.3"
  }
 },
 "nbformat": 4,
 "nbformat_minor": 5
}
