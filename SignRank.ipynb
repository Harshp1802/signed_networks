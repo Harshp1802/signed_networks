{
 "cells": [
  {
   "cell_type": "code",
   "execution_count": 116,
   "id": "packed-explorer",
   "metadata": {},
   "outputs": [],
   "source": [
    "import numpy as np\n",
    "import pandas as pd\n",
    "import matplotlib.pyplot as plt\n",
    "import networkx as nx\n",
    "from tqdm import trange\n",
    "import csv\n",
    "from pprint import pprint"
   ]
  },
  {
   "cell_type": "markdown",
   "id": "rubber-characteristic",
   "metadata": {},
   "source": [
    "## Importing Graph Data"
   ]
  },
  {
   "cell_type": "code",
   "execution_count": 117,
   "id": "finite-address",
   "metadata": {},
   "outputs": [],
   "source": [
    "Data = open('soc-sign-bitcoinotc.csv', \"r\")\n",
    "next(Data, None)  # skip the first line in the input file\n",
    "Graphtype = nx.DiGraph()\n",
    "\n",
    "G = nx.parse_edgelist(Data, delimiter=',', create_using=Graphtype, nodetype=int, data=(('Weight', int),('Timestamp', int)))\n",
    "\n",
    "# Setting weights -1 to 1\n",
    "weights = nx.get_edge_attributes(G,\"Weight\")\n",
    "for key, val in weights.items():\n",
    "    weights[key] = val/10\n",
    "nx.set_edge_attributes(G, weights, \"Weight\")"
   ]
  },
  {
   "cell_type": "code",
   "execution_count": 118,
   "id": "molecular-trigger",
   "metadata": {},
   "outputs": [
    {
     "name": "stdout",
     "output_type": "stream",
     "text": [
      "Name: \n",
      "Type: DiGraph\n",
      "Number of nodes: 5881\n",
      "Number of edges: 35592\n",
      "Average in degree:   6.0520\n",
      "Average out degree:   6.0520\n"
     ]
    }
   ],
   "source": [
    "print(nx.info(G))"
   ]
  },
  {
   "cell_type": "code",
   "execution_count": 119,
   "id": "voluntary-spiritual",
   "metadata": {},
   "outputs": [
    {
     "data": {
      "text/plain": [
       "[(6, 2, {'Weight': 0.4, 'Timestamp': 1289241912}),\n",
       " (6, 5, {'Weight': 0.2, 'Timestamp': 1289241942}),\n",
       " (6, 4, {'Weight': 0.2, 'Timestamp': 1289770700}),\n",
       " (6, 7, {'Weight': 0.5, 'Timestamp': 1290826367}),\n",
       " (6, 114, {'Weight': 0.2, 'Timestamp': 1296291457})]"
      ]
     },
     "execution_count": 119,
     "metadata": {},
     "output_type": "execute_result"
    }
   ],
   "source": [
    "list(G.edges(data=True))[:5]"
   ]
  },
  {
   "cell_type": "code",
   "execution_count": 120,
   "id": "broke-cliff",
   "metadata": {},
   "outputs": [
    {
     "data": {
      "text/plain": [
       "5881"
      ]
     },
     "execution_count": 120,
     "metadata": {},
     "output_type": "execute_result"
    }
   ],
   "source": [
    "G.number_of_nodes()"
   ]
  },
  {
   "cell_type": "code",
   "execution_count": 121,
   "id": "religious-europe",
   "metadata": {},
   "outputs": [
    {
     "data": {
      "text/plain": [
       "6005"
      ]
     },
     "execution_count": 121,
     "metadata": {},
     "output_type": "execute_result"
    }
   ],
   "source": [
    "max(G.nodes)"
   ]
  },
  {
   "cell_type": "markdown",
   "id": "sixth-thompson",
   "metadata": {},
   "source": [
    "## Implementing SignRank Computation\n",
    "\n",
    "> Reference: https://www.hindawi.com/journals/wcmc/2019/4813717/"
   ]
  },
  {
   "cell_type": "code",
   "execution_count": 126,
   "id": "golden-madison",
   "metadata": {},
   "outputs": [],
   "source": [
    "class SignRank():\n",
    "    def __init__(self, G):\n",
    "        '''\n",
    "        '''\n",
    "        self.G = G\n",
    "        self.n_nodes = G.number_of_nodes()\n",
    "        self.mx_node = max(G.nodes)\n",
    "        \n",
    "        self.pos_edges = None\n",
    "        self.neg_edges = None\n",
    "        \n",
    "        self.pos_probab = None\n",
    "        self.neg_probab = None\n",
    "        \n",
    "        self.emo = 1\n",
    "        self.iterMax = None\n",
    "    \n",
    "    def prepare_walker(self, iterMax):\n",
    "        '''\n",
    "        '''\n",
    "        self.pos_edges = [(e[0], e[1]) for e in G.edges(data=True) if e[2]['Weight'] > 0]\n",
    "        self.neg_edges = [(e[0], e[1]) for e in G.edges(data=True) if e[2]['Weight'] < 0]\n",
    "        \n",
    "        self.pos_probab = np.ones((2, self.mx_node+1))\n",
    "        self.pos_probab /= (2*self.n_nodes)\n",
    "        self.neg_probab = np.ones((2, self.mx_node+1))\n",
    "        self.neg_probab /= (2*self.n_nodes)\n",
    "        \n",
    "        present = sorted(list(G.nodes))\n",
    "        for i in range(self.mx_node+1):\n",
    "            if i in present:\n",
    "                pass\n",
    "            else:\n",
    "                self.pos_probab[:,i] = 0\n",
    "                self.neg_probab[:,i] = 0\n",
    "        \n",
    "        self.emo = 1\n",
    "        self.iterMax = iterMax\n",
    "        \n",
    "    def computeSR(self, iterMax, lam, alph):\n",
    "        '''\n",
    "        lam: tiredness probability\n",
    "        alph: hopping probability\n",
    "        '''\n",
    "        self.prepare_walker(iterMax)\n",
    "        \n",
    "        for iter in range(1, iterMax+1):\n",
    "            print('[Logs] Iter: ', iter)\n",
    "            for pe in self.pos_edges:\n",
    "                i = pe[0]\n",
    "                j = pe[1]\n",
    "                self.pos_probab[1][j] = self.pos_probab[0][i]/(self.G.out_degree(i))\n",
    "                self.neg_probab[1][j] = self.neg_probab[0][i]/(self.G.out_degree(i) * lam)\n",
    "                \n",
    "            for ne in self.neg_edges:\n",
    "                i = ne[0]\n",
    "                j = ne[1]\n",
    "                self.pos_probab[1][j] = self.pos_probab[0][i]/(self.G.out_degree(i) * lam)\n",
    "                self.neg_probab[1][j] = self.neg_probab[0][j]/(self.G.out_degree(i))\n",
    "                \n",
    "            nsum = (np.sum(self.neg_probab[0])*lam)/(self.n_nodes * 2)\n",
    "            \n",
    "            self.pos_probab[1] += nsum\n",
    "            self.pos_probab[1] *= (alph * (1-alph))/(2 * self.n_nodes)\n",
    "            \n",
    "            self.neg_probab[1] += nsum\n",
    "            self.neg_probab[1] *= (alph * (1-alph))/(2 * self.n_nodes)\n",
    "            \n",
    "            err = np.sum(self.pos_probab[1]) + np.sum(self.neg_probab[1]) - np.sum(self.pos_probab[0]) - np.sum(self.neg_probab[0])\n",
    "            \n",
    "            print(\"Err: \", err)\n",
    "            \n",
    "#             if err < self.n_nodes * tol:\n",
    "#                 return self.pos_probab[1], self.neg_probab[0]\n",
    "            \n",
    "            self.pos_probab[0] = self.pos_probab[1]\n",
    "            self.neg_probab[0] = self.neg_probab[1]\n",
    "        \n",
    "        return self.pos_probab[1], self.neg_probab[1]\n",
    "            "
   ]
  },
  {
   "cell_type": "code",
   "execution_count": 127,
   "id": "agreed-glossary",
   "metadata": {},
   "outputs": [],
   "source": [
    "sr = SignRank(G)"
   ]
  },
  {
   "cell_type": "code",
   "execution_count": 128,
   "id": "trained-russell",
   "metadata": {},
   "outputs": [
    {
     "name": "stdout",
     "output_type": "stream",
     "text": [
      "[Logs] Iter:  1\n",
      "Err:  -0.9999907818174083\n",
      "[Logs] Iter:  2\n",
      "Err:  -9.218067779724122e-06\n",
      "[Logs] Iter:  3\n",
      "Err:  -1.1481037784061107e-10\n"
     ]
    }
   ],
   "source": [
    "a, b = sr.computeSR(3, 0.5, 0.5)"
   ]
  },
  {
   "cell_type": "code",
   "execution_count": 129,
   "id": "wireless-communication",
   "metadata": {},
   "outputs": [
    {
     "data": {
      "text/plain": [
       "array([3.62830140e-19, 8.67015117e-20, 6.71607055e-20, ...,\n",
       "       9.09483790e-20, 6.22287729e-20, 6.22287729e-20])"
      ]
     },
     "execution_count": 129,
     "metadata": {},
     "output_type": "execute_result"
    }
   ],
   "source": [
    "a"
   ]
  },
  {
   "cell_type": "code",
   "execution_count": 130,
   "id": "dimensional-shark",
   "metadata": {},
   "outputs": [
    {
     "data": {
      "text/plain": [
       "array([3.62830140e-19, 1.54090227e-19, 6.29485771e-20, ...,\n",
       "       1.72823492e-19, 6.31680650e-20, 6.31680650e-20])"
      ]
     },
     "execution_count": 130,
     "metadata": {},
     "output_type": "execute_result"
    }
   ],
   "source": [
    "b"
   ]
  },
  {
   "cell_type": "code",
   "execution_count": 131,
   "id": "married-export",
   "metadata": {},
   "outputs": [
    {
     "data": {
      "text/plain": [
       "array([1.        , 0.56266717, 1.0669138 , ..., 0.5262501 , 0.98513027,\n",
       "       0.98513027])"
      ]
     },
     "execution_count": 131,
     "metadata": {},
     "output_type": "execute_result"
    }
   ],
   "source": [
    "tmp = (a/b)\n",
    "tmp"
   ]
  },
  {
   "cell_type": "code",
   "execution_count": 132,
   "id": "driven-savannah",
   "metadata": {},
   "outputs": [],
   "source": [
    "pos = tmp>1"
   ]
  },
  {
   "cell_type": "code",
   "execution_count": 133,
   "id": "focused-disabled",
   "metadata": {},
   "outputs": [
    {
     "data": {
      "text/plain": [
       "(array([False,  True]), array([4760, 1246], dtype=int64))"
      ]
     },
     "execution_count": 133,
     "metadata": {},
     "output_type": "execute_result"
    }
   ],
   "source": [
    "np.unique(pos, return_counts=True)"
   ]
  },
  {
   "cell_type": "code",
   "execution_count": 134,
   "id": "individual-sculpture",
   "metadata": {},
   "outputs": [],
   "source": [
    "labels = {}\n",
    "pos_nodes = []\n",
    "neg_nodes = []\n",
    "signranks = {}\n",
    "\n",
    "for node in list(G.nodes):\n",
    "    signranks[node] = tmp[node]\n",
    "    if tmp[node]:\n",
    "        labels[node] = 1\n",
    "        pos_nodes.append(node)\n",
    "    else:\n",
    "        labels[node] = 0\n",
    "        neg_nodes.append(node)"
   ]
  },
  {
   "cell_type": "code",
   "execution_count": 138,
   "id": "studied-shore",
   "metadata": {},
   "outputs": [
    {
     "name": "stdout",
     "output_type": "stream",
     "text": [
      "Top 15 reputed users and their reputation: \n",
      "[(4857, 5.475182144512328),\n",
      " (4871, 5.475182144512328),\n",
      " (3672, 4.707850413636958),\n",
      " (5549, 4.477655629396746),\n",
      " (25, 4.252623672628039),\n",
      " (4965, 4.252623672628039),\n",
      " (4967, 4.252623672628039),\n",
      " (5574, 4.252623672628039),\n",
      " (5738, 4.252623672628039),\n",
      " (5364, 4.1282867498856435),\n",
      " (5370, 4.1282867498856435),\n",
      " (5371, 4.1282867498856435),\n",
      " (4025, 3.2620167355270793),\n",
      " (4789, 3.2620167355270793),\n",
      " (4793, 3.2620167355270793)]\n",
      "\n",
      "Bottom 15 reputed users and their reputation: \n",
      "[(4537, 0.17024988213334097),\n",
      " (5359, 0.17024988213334097),\n",
      " (5665, 0.17024988213334097),\n",
      " (819, 0.15509660139478665),\n",
      " (3483, 0.15509660139478665),\n",
      " (3484, 0.15509660139478665),\n",
      " (3762, 0.15509660139478665),\n",
      " (3763, 0.15509660139478665),\n",
      " (3911, 0.15509660139478665),\n",
      " (3912, 0.15509660139478665),\n",
      " (4109, 0.15509660139478665),\n",
      " (4395, 0.15509660139478665),\n",
      " (4396, 0.15509660139478665),\n",
      " (4714, 0.15509660139478665),\n",
      " (3960, 0.15509660139478665)]\n"
     ]
    }
   ],
   "source": [
    "signrank_tups_sorted = sorted(signranks.items(), key=lambda item: item[1], reverse=True)\n",
    "sorted_dict = {k: v for k, v in signrank_tups_sorted}\n",
    "\n",
    "# print(sorted_dict)\n",
    "print(\"Top 15 reputed users and their reputation: \")\n",
    "pprint(signrank_tups_sorted[:15])\n",
    "print()\n",
    "print(\"Bottom 15 reputed users and their reputation: \")\n",
    "pprint(signrank_tups_sorted[-15:])"
   ]
  },
  {
   "cell_type": "code",
   "execution_count": null,
   "id": "preliminary-beads",
   "metadata": {},
   "outputs": [],
   "source": []
  }
 ],
 "metadata": {
  "kernelspec": {
   "display_name": "Python 3",
   "language": "python",
   "name": "python3"
  },
  "language_info": {
   "codemirror_mode": {
    "name": "ipython",
    "version": 3
   },
   "file_extension": ".py",
   "mimetype": "text/x-python",
   "name": "python",
   "nbconvert_exporter": "python",
   "pygments_lexer": "ipython3",
   "version": "3.7.3"
  }
 },
 "nbformat": 4,
 "nbformat_minor": 5
}
